{
 "metadata": {
  "name": "",
  "signature": "sha256:11fd515535b5ddf968eb786b0d30c98a207653d85398f7f3a2d07af8f6a29b71"
 },
 "nbformat": 3,
 "nbformat_minor": 0,
 "worksheets": [
  {
   "cells": [
    {
     "cell_type": "code",
     "collapsed": false,
     "input": [
      "from __future__ import division\n",
      "\n",
      "nu = np.array([102.5479,102.5459,102.5398, 102.5303])* 10**9 #GHz\n",
      "amplitude = np.array([0.475273, 0.341895, 0.170412, 0.091414]) #K\n",
      "width = np.array([2.936746, 5.114193, 3.540890, 4.376373]) * 1000 #km/s\n",
      "intI = np.array([1.659, 1.774, 0.620, 0.401]) *1000#K km/s\n",
      "#intI = width*amplitude/0.9394            #Was is das?\n",
      "intIerror = np.array([0.037, 0.046, 0.040, 0.043])*1000 #m #K km/s\n",
      "\n",
      "k = con.k_B.value\n",
      "h = con.h.value\n",
      "c = con.c.value\n",
      "mu = 0.75\n",
      "Ju = 6\n",
      "eta = 0.5\n",
      "K = np.array([0,1,2,3]) \n",
      "Aul = (1.165*10**-11)*(nu/1e9)**3*mu**2*(((Ju)**2 -(K)**2) / (Ju*(2*Ju+1)))\n",
      "print \"Aul:\", Aul\n",
      "\n",
      "Ta = intI\n",
      "print \"Ta:\", Ta\n",
      "\n",
      "Nu = (8*np.pi*k*nu**2)/(h*c**3*Aul*eta)*Ta\n",
      "print \"Nu:\", Nu\n",
      "\n",
      "Nu_err = np.sqrt((Nu/Ta)**2 *intIerror**2)\n",
      "print \"sigma Nu:\", Nu_err\n",
      "\n",
      "g0 = 1*0.5*(2*6+1)\n",
      "g1 = 2*0.25*(2*6+1)\n",
      "g2 = 2*0.25*(2*6+1)\n",
      "g3 = 2*0.5*(2*6+1)\n",
      "g = np.array([g0,g1,g2,g3])\n",
      "\n",
      "E = np.array([17.22, 24.43, 46.03, 82.03])"
     ],
     "language": "python",
     "metadata": {},
     "outputs": [
      {
       "output_type": "stream",
       "stream": "stdout",
       "text": [
        "Aul: [  3.26164480e-06   3.17085802e-06   2.89855287e-06   2.44497430e-06]\n",
        "Ta: [ 1659.  1774.   620.   401.]\n",
        "Nu: [  2.07920945e+17   2.28690643e+17   8.74239391e+16   6.70207843e+16]\n",
        "sigma Nu: [  4.63717598e+15   5.92997158e+15   5.64025413e+15   7.18676739e+15]\n"
       ]
      }
     ],
     "prompt_number": 163
    },
    {
     "cell_type": "code",
     "collapsed": false,
     "input": [
      "x=E\n",
      "y=np.log(Nu/g)\n",
      "print \"y:\", y\n",
      "y_err = np.sqrt((1./Nu)**2 * Nu_err**2)\n",
      "print \"sigma y:\", y_err"
     ],
     "language": "python",
     "metadata": {},
     "outputs": [
      {
       "output_type": "stream",
       "stream": "stdout",
       "text": [
        "y: [ 38.00413215  38.0993444   37.13774337  36.17882982]\n",
        "sigma y: [ 0.02230259  0.0259301   0.06451613  0.10723192]\n"
       ]
      }
     ],
     "prompt_number": 164
    },
    {
     "cell_type": "code",
     "collapsed": false,
     "input": [
      "from scipy.odr import odrpack as odr\n",
      "from scipy.odr import models\n",
      "\n",
      "def poly_lsq(x,y,n,verbose=False,itmax=200):\n",
      "    ''' Performs a polynomial least squares fit to the data,\n",
      "    with errors! Uses scipy odrpack, but for least squares.\n",
      "\n",
      "    IN:\n",
      "       x,y (arrays) - data to fit\n",
      "       n (int)      - polinomial order\n",
      "       verbose      - can be 0,1,2 for different levels of output\n",
      "                      (False or True are the same as 0 or 1)\n",
      "       itmax (int)  - optional maximum number of iterations\n",
      "\n",
      "    OUT:\n",
      "       coeff -  polynomial coefficients, lowest order first\n",
      "       err   - standard error (1-sigma) on the coefficients\n",
      "\n",
      "    --Tiago, 20071114\n",
      "    '''\n",
      "\n",
      "    # http://www.scipy.org/doc/api_docs/SciPy.odr.odrpack.html\n",
      "    # see models.py and use ready made models!!!!\n",
      "\n",
      "    func   = models.polynomial(n)\n",
      "    mydata = odr.Data(x, y)\n",
      "    myodr  = odr.ODR(mydata, func,maxit=itmax)\n",
      "\n",
      "    # Set type of fit to least-squares:\n",
      "    myodr.set_job(fit_type=2)\n",
      "    if verbose == 2: myodr.set_iprint(final=2)\n",
      "\n",
      "    fit = myodr.run()\n",
      "\n",
      "    # Display results:\n",
      "    if verbose: fit.pprint()\n",
      "\n",
      "    if fit.stopreason[0] == 'Iteration limit reached':\n",
      "        print '(WWW) poly_lsq: Iteration limit reached, result not reliable!'\n",
      "\n",
      "    # Results and errors\n",
      "    coeff = fit.beta[::-1]\n",
      "    err   = fit.sd_beta[::-1]\n",
      "\n",
      "    return coeff,err"
     ],
     "language": "python",
     "metadata": {},
     "outputs": [],
     "prompt_number": 165
    },
    {
     "cell_type": "code",
     "collapsed": false,
     "input": [
      "%matplotlib inline\n",
      "\n",
      "test = poly_lsq(x,y,1,verbose=False,itmax=200)\n",
      "print \"test:\", test\n",
      "parameter_err = test[1]\n",
      "\n",
      "constants, cov = np.polyfit(x,y,1, w=y_err, cov=True)\n",
      "print \"constants:\", constants\n",
      "A = constants[0]\n",
      "B = constants[1]\n",
      "ploty = A*x+B\n",
      "A_err = parameter_err[0]\n",
      "B_err = parameter_err[1]\n",
      "print \"sigma A:\", A_err\n",
      "print \"sigma B:\", B_err\n",
      "\n",
      "plt.figure(1)\n",
      "plt.plot(x,y,'.')\n",
      "plt.errorbar(x, y, yerr=y_err, linestyle='None')\n",
      "plt.plot(x,ploty, linewidth=2)\n",
      "plt.title('DR21(OH)', fontsize=19)\n",
      "plt.xlabel(\"$E/k_B$\", fontsize=18)\n",
      "plt.ylabel(r\"$\\log \\frac{N_u}{g_u}$\", fontsize=18)\n"
     ],
     "language": "python",
     "metadata": {},
     "outputs": [
      {
       "output_type": "stream",
       "stream": "stdout",
       "text": [
        "test: (array([ -3.03547658e-02,   3.86428893e+01]), array([ 0.00357654,  0.17649647]))\n",
        "constants: [ -2.87042479e-02   3.85246674e+01]\n",
        "sigma A: 0.0035765382698\n",
        "sigma B: 0.176496473058\n"
       ]
      },
      {
       "metadata": {},
       "output_type": "pyout",
       "prompt_number": 166,
       "text": [
        "<matplotlib.text.Text at 0x6a4bf10>"
       ]
      },
      {
       "metadata": {},
       "output_type": "display_data",
       "png": "[encoded data removed]",
       "text": [
        "<matplotlib.figure.Figure at 0x50b1590>"
       ]
      }
     ],
     "prompt_number": 166
    },
    {
     "cell_type": "code",
     "collapsed": false,
     "input": [
      "T=-1/(A)\n",
      "T_err = np.sqrt((1/A**2)**2 *A_err**2 )\n",
      "\n",
      "Z = 0.523*T**(3./2)\n",
      "Z_err = np.sqrt((0.523*(3/2)*T**(1/2))**2 * T_err**2)\n",
      "\n",
      "N=Z*np.e**B\n",
      "N_err = np.sqrt( ((np.e**B)**2 * Z_err**2) + (N**2 * B_err**2))\n",
      "print \"sigma N:\", N_err\n",
      "\n",
      "\n",
      "print \"T:\", T\n",
      "print \"sigma T:\", T_err"
     ],
     "language": "python",
     "metadata": {},
     "outputs": [
      {
       "output_type": "stream",
       "stream": "stdout",
       "text": [
        "sigma N: 1.48824976656e+18\n",
        "T: 34.8380491401\n",
        "sigma T: 4.34080754486\n"
       ]
      }
     ],
     "prompt_number": 167
    },
    {
     "cell_type": "code",
     "collapsed": false,
     "input": [
      "N=N*u.meter**-2\n",
      "N_err = N_err*u.meter**-2"
     ],
     "language": "python",
     "metadata": {},
     "outputs": [],
     "prompt_number": 168
    },
    {
     "cell_type": "code",
     "collapsed": false,
     "input": [
      "N"
     ],
     "language": "python",
     "metadata": {},
     "outputs": [
      {
       "latex": [
        "$5.78939\\times 10^{+18} \\; \\mathrm{\\frac{1}{m^{2}}}$"
       ],
       "metadata": {},
       "output_type": "pyout",
       "prompt_number": 169,
       "text": [
        "<Quantity 5.789391516646661e+18 1 / m2>"
       ]
      }
     ],
     "prompt_number": 169
    },
    {
     "cell_type": "code",
     "collapsed": false,
     "input": [
      "N.cgs"
     ],
     "language": "python",
     "metadata": {},
     "outputs": [
      {
       "latex": [
        "$5.78939\\times 10^{+14} \\; \\mathrm{\\frac{1}{cm^{2}}}$"
       ],
       "metadata": {},
       "output_type": "pyout",
       "prompt_number": 170,
       "text": [
        "<Quantity 578939151664666.1 1 / cm2>"
       ]
      }
     ],
     "prompt_number": 170
    },
    {
     "cell_type": "code",
     "collapsed": false,
     "input": [
      "N_err.cgs"
     ],
     "language": "python",
     "metadata": {},
     "outputs": [
      {
       "latex": [
        "$1.48825\\times 10^{+14} \\; \\mathrm{\\frac{1}{cm^{2}}}$"
       ],
       "metadata": {},
       "output_type": "pyout",
       "prompt_number": 171,
       "text": [
        "<Quantity 148824976656012.2 1 / cm2>"
       ]
      }
     ],
     "prompt_number": 171
    }
   ],
   "metadata": {}
  }
 ]
}