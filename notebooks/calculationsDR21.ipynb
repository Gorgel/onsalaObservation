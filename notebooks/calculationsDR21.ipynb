{
 "metadata": {
  "name": "",
  "signature": "sha256:e03c4c587fbc86c784d544508562f3a565bd8b1bac098cfd682c4ca0ff66f1c3"
 },
 "nbformat": 3,
 "nbformat_minor": 0,
 "worksheets": [
  {
   "cells": [
    {
     "cell_type": "code",
     "collapsed": false,
     "input": [
      "from __future__ import division\n",
      "\n",
      "nu = np.array([102.5479,102.5459,102.5398, 102.5303])* 10**9 #GHz\n",
      "amplitude = np.array([0.475273, 0.341895, 0.170412, 0.091414]) #K\n",
      "width = np.array([2.936746, 5.114193, 3.540890, 4.376373]) * 1000 #km/s\n",
      "intI = np.array([1.659, 1.774, 0.620, 0.401]) *1000#K km/s\n",
      "#intI = width*amplitude/0.9394            #Was is das?\n",
      "intIerror = np.array([0.037, 0.046, 0.040, 0.043])*1000 #m #K km/s\n",
      "\n",
      "k = con.k_B.value\n",
      "h = con.h.value\n",
      "c = con.c.value\n",
      "mu = 0.75\n",
      "Ju = 6\n",
      "eta = 0.5\n",
      "K = np.array([0,1,2,3]) \n",
      "Aul = (1.165*10**-11)*(nu/1e9)**3*mu**2*(((Ju)**2 -(K)**2) / (Ju*(2*Ju+1)))\n",
      "print \"Aul:\", Aul\n",
      "\n",
      "Ta = intI\n",
      "print \"Ta:\", Ta\n",
      "\n",
      "Nu = (8*np.pi*k*nu**2)/(h*c**3*Aul*eta)*Ta\n",
      "print \"Nu:\", Nu\n",
      "\n",
      "g0 = 1*0.5*(2*6+1)\n",
      "g1 = 2*0.25*(2*6+1)\n",
      "g2 = 2*0.25*(2*6+1)\n",
      "g3 = 2*0.5*(2*6+1)\n",
      "g = np.array([g0,g1,g2,g3])\n",
      "\n",
      "E = np.array([17.22, 24.43, 46.03, 82.03])"
     ],
     "language": "python",
     "metadata": {},
     "outputs": [
      {
       "output_type": "stream",
       "stream": "stdout",
       "text": [
        "Aul: [  3.26164480e-06   3.17085802e-06   2.89855287e-06   2.44497430e-06]\n",
        "Ta: [ 1659.  1774.   620.   401.]\n",
        "Nu: [  2.07920945e+17   2.28690643e+17   8.74239391e+16   6.70207843e+16]\n"
       ]
      }
     ],
     "prompt_number": 19
    },
    {
     "cell_type": "code",
     "collapsed": false,
     "input": [
      "x=E\n",
      "y=np.log(Nu/g)\n"
     ],
     "language": "python",
     "metadata": {},
     "outputs": [],
     "prompt_number": 20
    },
    {
     "cell_type": "code",
     "collapsed": false,
     "input": [
      "%matplotlib inline\n",
      "\n",
      "constants = np.polyfit(x,y,1)#,w=np.sqrt(intIerror))\n",
      "print \"constants:\", constants\n",
      "A = constants[0]\n",
      "B = constants[1]\n",
      "ploty = A*x+B\n",
      "\n",
      "\n",
      "plt.figure(1)\n",
      "plt.plot(x,y,'.')\n",
      "plt.plot(x,ploty)\n"
     ],
     "language": "python",
     "metadata": {},
     "outputs": [
      {
       "output_type": "stream",
       "stream": "stdout",
       "text": [
        "constants: [ -3.03547739e-02   3.86428896e+01]\n"
       ]
      },
      {
       "metadata": {},
       "output_type": "pyout",
       "prompt_number": 21,
       "text": [
        "[<matplotlib.lines.Line2D at 0x373f510>]"
       ]
      },
      {
       "metadata": {},
       "output_type": "display_data",
       "png": "[encoded data removed]",
       "text": [
        "<matplotlib.figure.Figure at 0x1712850>"
       ]
      }
     ],
     "prompt_number": 21
    },
    {
     "cell_type": "code",
     "collapsed": false,
     "input": [
      "T=-1/(A)\n",
      "Z = 0.523*T**(3./2)\n",
      "N=Z*np.e**B\n",
      "\n",
      "print \"T:\", T"
     ],
     "language": "python",
     "metadata": {},
     "outputs": [
      {
       "output_type": "stream",
       "stream": "stdout",
       "text": [
        "T: 32.9437472507\n"
       ]
      }
     ],
     "prompt_number": 22
    },
    {
     "cell_type": "code",
     "collapsed": false,
     "input": [
      "N=N*u.meter**-2"
     ],
     "language": "python",
     "metadata": {},
     "outputs": [
      {
       "output_type": "stream",
       "stream": "stdout",
       "text": [
        "N: 5.99176684816e+18 1 / m2\n"
       ]
      }
     ],
     "prompt_number": 23
    },
    {
     "cell_type": "code",
     "collapsed": false,
     "input": [
      "N"
     ],
     "language": "python",
     "metadata": {},
     "outputs": [
      {
       "latex": [
        "$5.99177\\times 10^{+18} \\; \\mathrm{\\frac{1}{m^{2}}}$"
       ],
       "metadata": {},
       "output_type": "pyout",
       "prompt_number": 24,
       "text": [
        "<Quantity 5.991766848156783e+18 1 / m2>"
       ]
      }
     ],
     "prompt_number": 24
    },
    {
     "cell_type": "code",
     "collapsed": false,
     "input": [
      "N.cgs"
     ],
     "language": "python",
     "metadata": {},
     "outputs": [
      {
       "latex": [
        "$5.99177\\times 10^{+14} \\; \\mathrm{\\frac{1}{cm^{2}}}$"
       ],
       "metadata": {},
       "output_type": "pyout",
       "prompt_number": 25,
       "text": [
        "<Quantity 599176684815678.2 1 / cm2>"
       ]
      }
     ],
     "prompt_number": 25
    }
   ],
   "metadata": {}
  }
 ]
}