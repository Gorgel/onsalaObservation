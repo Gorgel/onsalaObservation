{
 "metadata": {
  "name": "",
  "signature": "sha256:954221d279112be811d5680dcbd67d6cfa1053021537bb80b2bce331f5572294"
 },
 "nbformat": 3,
 "nbformat_minor": 0,
 "worksheets": [
  {
   "cells": [
    {
     "cell_type": "code",
     "collapsed": false,
     "input": [
      "from __future__ import division\n",
      "\n",
      "nu = np.array([102.547910, 102.545949, 102.540066, 102.530392]) #Ghz\n",
      "nu = np.array([102.5479,102.5459,102.5398, 102.5303])\n",
      "amplitude = np.array([0.257828, 0.214432, 0.109303, 0.071176]) #K\n",
      "width = np.array([2.406740, 2.302609, 2.226442, 2.552928]) #km/s\n",
      "intI = np.array([0.649, 0.511, 0.217, 0.181]) #K km/s\n",
      "intIerror = np.array([0.019, 0.019, 0.020, 0.020]) #K km/s\n",
      "baselineMean = 9.768*10**-17 #K\n",
      "baselineSigma = 13.905 #mK\n",
      "baselineChi = 2.7818*10**-2\n",
      "gaussChi = 2.8518*10**2\n",
      "\n",
      "k = con.k_B.value\n",
      "h = con.h.value\n",
      "c = con.c.value\n",
      "mu = 0.75  #*10**-10 *u.meter\n",
      "Ju = 6\n",
      "eta = 0.5\n",
      "K = np.array([0,1,2,3])\n",
      "Aul = (1.165*10**-11)*nu**3*mu**2*((Ju**2 -K) / (Ju*(2*Ju+1)))\n",
      "Ta = intI\n",
      "\n",
      "N = (8*np.pi*k*nu**2)/(h*c**3*Aul*eta)*Ta\n",
      "g0 = 1*0.5*(2*6+1)\n",
      "g1 = 2*0.25*(2*6+1)\n",
      "g2 = 2*0.5*(2*6+1)\n",
      "g3 = 2*0.25*(2*6+1)\n",
      "g = np.array([g0,g1,g2,g3])\n",
      "\n",
      "E = np.array([17.22, 24.43, 46.03, 82.03])*k"
     ],
     "language": "python",
     "metadata": {},
     "outputs": [],
     "prompt_number": 1
    },
    {
     "cell_type": "code",
     "collapsed": false,
     "input": [
      "x=E\n",
      "y=np.log(N/g)"
     ],
     "language": "python",
     "metadata": {},
     "outputs": [],
     "prompt_number": 2
    },
    {
     "cell_type": "code",
     "collapsed": false,
     "input": [
      "%matplotlib inline\n",
      "\n",
      "constants = np.polyfit(x,y,1,w=np.sqrt(intIerror))\n",
      "A = constants[0]\n",
      "B = constants[1]\n",
      "ploty = A*x+B\n",
      "\n",
      "plt.figure(1)\n",
      "plt.plot(x,y,'.')\n",
      "plt.plot(x,ploty)"
     ],
     "language": "python",
     "metadata": {},
     "outputs": [
      {
       "metadata": {},
       "output_type": "pyout",
       "prompt_number": 3,
       "text": [
        "[<matplotlib.lines.Line2D at 0x4a7fe10>]"
       ]
      },
      {
       "metadata": {},
       "output_type": "display_data",
       "png": "[encoded data removed]",
       "text": [
        "<matplotlib.figure.Figure at 0x49edf10>"
       ]
      }
     ],
     "prompt_number": 3
    },
    {
     "cell_type": "code",
     "collapsed": false,
     "input": [
      "constants"
     ],
     "language": "python",
     "metadata": {},
     "outputs": [
      {
       "metadata": {},
       "output_type": "pyout",
       "prompt_number": 4,
       "text": [
        "array([ -1.39598273e+21,  -1.12606766e+01])"
       ]
      }
     ],
     "prompt_number": 4
    },
    {
     "cell_type": "code",
     "collapsed": false,
     "input": [
      "T=-1/(A*k)\n",
      "Z = 0.523*T**(3./2)\n",
      "N=Z*np.e**B"
     ],
     "language": "python",
     "metadata": {},
     "outputs": [],
     "prompt_number": 5
    },
    {
     "cell_type": "code",
     "collapsed": false,
     "input": [
      "T"
     ],
     "language": "python",
     "metadata": {},
     "outputs": [
      {
       "metadata": {},
       "output_type": "pyout",
       "prompt_number": 6,
       "text": [
        "51.884392374148085"
       ]
      }
     ],
     "prompt_number": 6
    },
    {
     "cell_type": "code",
     "collapsed": false,
     "input": [
      "N=N*u.meter**2"
     ],
     "language": "python",
     "metadata": {},
     "outputs": [],
     "prompt_number": 7
    },
    {
     "cell_type": "code",
     "collapsed": false,
     "input": [
      "N"
     ],
     "language": "python",
     "metadata": {},
     "outputs": [
      {
       "latex": [
        "$0.0025154 \\; \\mathrm{m^{2}}$"
       ],
       "metadata": {},
       "output_type": "pyout",
       "prompt_number": 8,
       "text": [
        "<Quantity 0.002515400207055197 m2>"
       ]
      }
     ],
     "prompt_number": 8
    },
    {
     "cell_type": "code",
     "collapsed": false,
     "input": [
      "N.cgs"
     ],
     "language": "python",
     "metadata": {},
     "outputs": [
      {
       "latex": [
        "$25.154 \\; \\mathrm{cm^{2}}$"
       ],
       "metadata": {},
       "output_type": "pyout",
       "prompt_number": 9,
       "text": [
        "<Quantity 25.154002070551968 cm2>"
       ]
      }
     ],
     "prompt_number": 9
    },
    {
     "cell_type": "code",
     "collapsed": false,
     "input": [
      "Aul"
     ],
     "language": "python",
     "metadata": {},
     "outputs": [
      {
       "metadata": {},
       "output_type": "pyout",
       "prompt_number": 13,
       "text": [
        "array([  3.26164480e-06,   3.17085802e-06,   3.07971242e-06,\n",
        "         2.98830192e-06])"
       ]
      }
     ],
     "prompt_number": 13
    },
    {
     "cell_type": "code",
     "collapsed": false,
     "input": [
      "Ju"
     ],
     "language": "python",
     "metadata": {},
     "outputs": [
      {
       "metadata": {},
       "output_type": "pyout",
       "prompt_number": 12,
       "text": [
        "6"
       ]
      }
     ],
     "prompt_number": 12
    },
    {
     "cell_type": "code",
     "collapsed": false,
     "input": [],
     "language": "python",
     "metadata": {},
     "outputs": []
    }
   ],
   "metadata": {}
  }
 ]
}