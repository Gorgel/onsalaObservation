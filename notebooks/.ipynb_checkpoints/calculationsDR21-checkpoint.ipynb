{
 "metadata": {
  "name": "",
  "signature": "sha256:dd9254ba9c50aab9ba14e5ee7904ea4592ec200ba7b2b33d43935c0fe73fdfb6"
 },
 "nbformat": 3,
 "nbformat_minor": 0,
 "worksheets": [
  {
   "cells": [
    {
     "cell_type": "code",
     "collapsed": false,
     "input": [
      "from __future__ import division\n",
      "\n",
      "nu = np.array([102.547910, 102.545949, 102.540066, 102.530392]) #Ghz\n",
      "nu = np.array([102.5479,102.5459,102.5398, 102.5303]) #* 10**9 #GHz\n",
      "amplitude = np.array([0.475273, 0.341895, 0.170412, 0.091414]) #K\n",
      "width = np.array([2.936746, 5.114193, 3.540890, 4.376373]) * 1000 #m #km/s\n",
      "intI = np.array([1.659, 1.774, 0.620, 0.401])#*10**15 #m #K km/s\n",
      "intIerror = np.array([0.037, 0.046, 0.040, 0.043])*1000 #m #K km/s\n",
      "baselineMean = 1.157*10**-12 #K\n",
      "baselineSigma = 128.134 #mK\n",
      "baselineChi = 5.8732*10**-2\n",
      "gaussChi = 136.62\n",
      "\n",
      "k = con.k_B.value\n",
      "h = con.h.value\n",
      "hbar = con.hbar.value\n",
      "c = con.c.value\n",
      "mu = 0.75#*3.333*10**-30 #0.75  #*10**-10 *u.meter\n",
      "Ju = 6\n",
      "eta = 0.5\n",
      "K = np.array([0,1,2,3]) \n",
      "Aul = (1.165*10**-11)*nu**3*mu**2*(((Ju)**2 -(K)**2) / (Ju*(2*Ju+1)))\n",
      "#Aul = 10**-12\n",
      "#Aul = (64*np.pi**4)/(3*h*c**3) * nu**3 * mu**2 *(Ju/(2*Ju+1))\n",
      "Ta = intI\n",
      "\n",
      "gamma = (8*np.pi * k * nu**2)/(h*c**3 * Aul*eta)\n",
      "\n",
      "Nu = (8*np.pi*k*nu**2)/(h*c**3*Aul*eta)*Ta#*10**12\n",
      "g0 = 1*0.5*(2*6+1)\n",
      "g1 = 2*0.25*(2*6+1)\n",
      "g2 = 2*0.25*(2*6+1)\n",
      "g3 = 2*0.5*(2*6+1)\n",
      "g = np.array([g0,g1,g2,g3])\n",
      "\n",
      "E = np.array([17.22, 24.43, 46.03, 82.03])"
     ],
     "language": "python",
     "metadata": {},
     "outputs": [],
     "prompt_number": 410
    },
    {
     "cell_type": "code",
     "collapsed": false,
     "input": [
      "Nu"
     ],
     "language": "python",
     "metadata": {},
     "outputs": [
      {
       "metadata": {},
       "output_type": "pyout",
       "prompt_number": 411,
       "text": [
        "array([  2.07920945e-04,   2.28690643e-04,   8.74239391e-05,\n",
        "         6.70207843e-05])"
       ]
      }
     ],
     "prompt_number": 411
    },
    {
     "cell_type": "code",
     "collapsed": false,
     "input": [
      "x=E\n",
      "y=np.log(Nu/g)\n",
      "#y = Nu/g\n",
      "normy = -y\n"
     ],
     "language": "python",
     "metadata": {},
     "outputs": [],
     "prompt_number": 412
    },
    {
     "cell_type": "code",
     "collapsed": false,
     "input": [
      "%matplotlib inline\n",
      "\n",
      "constants = np.polyfit(x,y,1)#,w=np.sqrt(intIerror))\n",
      "A = constants[0]\n",
      "B = constants[1]\n",
      "ploty = A*x+B\n",
      "normploty = A*x-B\n",
      "\n",
      "plt.figure(1)\n",
      "plt.plot(x,y,'.')\n",
      "plt.plot(x,ploty)\n",
      "\n",
      "plt.figure(2)\n",
      "plt.plot(x,normy, 'r.')\n",
      "plt.plot(x, normploty, 'k-')"
     ],
     "language": "python",
     "metadata": {},
     "outputs": [
      {
       "metadata": {},
       "output_type": "pyout",
       "prompt_number": 413,
       "text": [
        "[<matplotlib.lines.Line2D at 0x7be3090>]"
       ]
      },
      {
       "metadata": {},
       "output_type": "display_data",
       "png": "[encoded data removed]",
       "text": [
        "<matplotlib.figure.Figure at 0x7705f90>"
       ]
      },
      {
       "metadata": {},
       "output_type": "display_data",
       "png": "[encoded data removed]",
       "text": [
        "<matplotlib.figure.Figure at 0x7bdaf90>"
       ]
      }
     ],
     "prompt_number": 413
    },
    {
     "cell_type": "code",
     "collapsed": false,
     "input": [
      "constants"
     ],
     "language": "python",
     "metadata": {},
     "outputs": [
      {
       "metadata": {},
       "output_type": "pyout",
       "prompt_number": 414,
       "text": [
        "array([-0.03035477, -9.71139735])"
       ]
      }
     ],
     "prompt_number": 414
    },
    {
     "cell_type": "code",
     "collapsed": false,
     "input": [
      "T=-1/(A)\n",
      "Z = 0.523*T**(3./2)\n",
      "N=Z*np.e**B"
     ],
     "language": "python",
     "metadata": {},
     "outputs": [],
     "prompt_number": 415
    },
    {
     "cell_type": "code",
     "collapsed": false,
     "input": [
      "T"
     ],
     "language": "python",
     "metadata": {},
     "outputs": [
      {
       "metadata": {},
       "output_type": "pyout",
       "prompt_number": 416,
       "text": [
        "32.943747250656727"
       ]
      }
     ],
     "prompt_number": 416
    },
    {
     "cell_type": "code",
     "collapsed": false,
     "input": [
      "N=N*u.meter**2"
     ],
     "language": "python",
     "metadata": {},
     "outputs": [],
     "prompt_number": 417
    },
    {
     "cell_type": "code",
     "collapsed": false,
     "input": [
      "N"
     ],
     "language": "python",
     "metadata": {},
     "outputs": [
      {
       "latex": [
        "$0.00599177 \\; \\mathrm{m^{2}}$"
       ],
       "metadata": {},
       "output_type": "pyout",
       "prompt_number": 418,
       "text": [
        "<Quantity 0.005991766848156852 m2>"
       ]
      }
     ],
     "prompt_number": 418
    },
    {
     "cell_type": "code",
     "collapsed": false,
     "input": [
      "N.cgs"
     ],
     "language": "python",
     "metadata": {},
     "outputs": [
      {
       "latex": [
        "$59.9177 \\; \\mathrm{cm^{2}}$"
       ],
       "metadata": {},
       "output_type": "pyout",
       "prompt_number": 419,
       "text": [
        "<Quantity 59.91766848156852 cm2>"
       ]
      }
     ],
     "prompt_number": 419
    },
    {
     "cell_type": "code",
     "collapsed": false,
     "input": [
      "Aul"
     ],
     "language": "python",
     "metadata": {},
     "outputs": [
      {
       "metadata": {},
       "output_type": "pyout",
       "prompt_number": 420,
       "text": [
        "array([  3.26164480e-06,   3.17085802e-06,   2.89855287e-06,\n",
        "         2.44497430e-06])"
       ]
      }
     ],
     "prompt_number": 420
    },
    {
     "cell_type": "code",
     "collapsed": false,
     "input": [
      "(u.debye.decompose())\n"
     ],
     "language": "python",
     "metadata": {},
     "outputs": [
      {
       "latex": [
        "$\\mathrm{3.3333333 \\times 10^{-30}\\,A\\,m\\,s}$"
       ],
       "metadata": {},
       "output_type": "pyout",
       "prompt_number": 421,
       "text": [
        "Unit(\"3.33333e-30 A m s\")"
       ]
      }
     ],
     "prompt_number": 421
    },
    {
     "cell_type": "code",
     "collapsed": false,
     "input": [
      "\n"
     ],
     "language": "python",
     "metadata": {},
     "outputs": [],
     "prompt_number": 421
    },
    {
     "cell_type": "code",
     "collapsed": false,
     "input": [
      "(64*np.pi**4)/(3*h*c**3)"
     ],
     "language": "python",
     "metadata": {},
     "outputs": [
      {
       "metadata": {},
       "output_type": "pyout",
       "prompt_number": 422,
       "text": [
        "116396550494.94029"
       ]
      }
     ],
     "prompt_number": 422
    },
    {
     "cell_type": "code",
     "collapsed": false,
     "input": [],
     "language": "python",
     "metadata": {},
     "outputs": [],
     "prompt_number": 422
    }
   ],
   "metadata": {}
  }
 ]
}